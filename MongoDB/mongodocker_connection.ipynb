{
 "metadata": {
  "language_info": {
   "codemirror_mode": {
    "name": "ipython",
    "version": 3
   },
   "file_extension": ".py",
   "mimetype": "text/x-python",
   "name": "python",
   "nbconvert_exporter": "python",
   "pygments_lexer": "ipython3",
   "version": "3.7.4-final"
  },
  "orig_nbformat": 2,
  "kernelspec": {
   "name": "python3",
   "display_name": "Python 3",
   "language": "python"
  }
 },
 "nbformat": 4,
 "nbformat_minor": 2,
 "cells": [
  {
   "cell_type": "code",
   "execution_count": null,
   "metadata": {},
   "outputs": [],
   "source": [
    "from pymongo import MongoClient\n",
    "client = MongoClient(\n",
    "host = [ str('localhost') + \":\" + str(27717) ],\n",
    "        serverSelectionTimeoutMS = 3000, # 3 second timeout\n",
    "        username = \"admin\",\n",
    "        password = \"admin\",\n",
    ")\n",
    "db = client['mydb']"
   ]
  },
  {
   "cell_type": "code",
   "execution_count": null,
   "metadata": {},
   "outputs": [],
   "source": [
    "import datetime\n",
    "post = {\"author\": \"Mike\",\n",
    "         \"text\": \"My first blog post!\",\n",
    "         \"tags\": [\"mongodb\", \"python\", \"pymongo\"],\n",
    "         \"date\": datetime.datetime.utcnow()}\n",
    "posts = db.posts #creating the table\n",
    "post_id = posts.insert_one(post).inserted_id\n",
    "post_id"
   ]
  },
  {
   "cell_type": "code",
   "execution_count": null,
   "metadata": {},
   "outputs": [],
   "source": [
    "\n",
    "#creating the second database to upload csv to mongodb\n",
    "\n",
    "import pandas as pd\n",
    "import json \n",
    "df = pd.read_csv(\"./dataset/hungary_chickenpox.csv\")\n",
    "df_json =  json.loads(df.to_json(orient='records'))\n",
    "cpox = db.chickenpox\n",
    "cpox.insert(df_json)\n",
    "cpox.count_documents({}) #count of documents"
   ]
  },
  {
   "cell_type": "code",
   "execution_count": null,
   "metadata": {
    "tags": []
   },
   "outputs": [],
   "source": [
    "cpox.find_one({'BACS': {\"$lt\" : 20} })  #to find only one record"
   ]
  },
  {
   "cell_type": "code",
   "execution_count": null,
   "metadata": {
    "tags": [
     "outputPrepend"
    ]
   },
   "outputs": [],
   "source": [
    "for i in cpox.find({\"BACS\":{\"$lt\" : 25}}).sort(\"Date\"): #for bulk \n",
    "    print(i)"
   ]
  },
  {
   "cell_type": "code",
   "execution_count": null,
   "metadata": {},
   "outputs": [],
   "source": []
  }
 ]
}